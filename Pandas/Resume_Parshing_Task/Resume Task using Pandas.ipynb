{
 "cells": [
  {
   "cell_type": "code",
   "execution_count": 1,
   "id": "146f5773",
   "metadata": {},
   "outputs": [
    {
     "data": {
      "text/plain": [
       "'Read all the resume from ineuron git in pdf, word and try to create a dataframe with resume \\nname as a index value and in column i am excepting email id, linked-in id, git id, Skills as a result.\\n'"
      ]
     },
     "execution_count": 1,
     "metadata": {},
     "output_type": "execute_result"
    }
   ],
   "source": [
    "\"\"\"Read all the resume from ineuron git in pdf, word FORMATE and try to create a dataframe with resume \n",
    "name as a index value and in column i am excepting email id, linked-in id, git id, Skills as a result.\n",
    "\"\"\""
   ]
  },
  {
   "cell_type": "markdown",
   "id": "b69bca98",
   "metadata": {},
   "source": [
    "## Resume Parshing Task"
   ]
  },
  {
   "cell_type": "code",
   "execution_count": 1,
   "id": "b9653943",
   "metadata": {},
   "outputs": [],
   "source": [
    "import pandas as pd\n",
    "from docx import Document\n",
    "import PyPDF2\n",
    "import re"
   ]
  },
  {
   "cell_type": "code",
   "execution_count": 2,
   "id": "11fba2fe",
   "metadata": {},
   "outputs": [],
   "source": [
    "file_name = []\n",
    "Email_id = []\n",
    "Github_link = []\n",
    "linkedin_link = []"
   ]
  },
  {
   "cell_type": "code",
   "execution_count": 100,
   "id": "b7124c81",
   "metadata": {},
   "outputs": [],
   "source": [
    "def text_parsing(file):\n",
    "    email_pattern = r\"[a-zA-Z0-9_\\.\\*\\-\\+]+@[a-zA-Z0-9]+\\.[a-zA-Z]{2,3}\"\n",
    "    github_pattern = r'github.com/[a-zA-Z0-9]+'\n",
    "    linkedin_pattern = r'www.linkedin.com/in/[a-zA-Z-]+[a-z0-9]+'\n",
    "    email = []\n",
    "    github = []\n",
    "    linked = []\n",
    "    \n",
    "    ''' Docx file logic starts from here'''\n",
    "    if file.endswith('.docx'):\n",
    "        file_name.append(file)\n",
    "        docx_file = Document(file)\n",
    "        all_para = docx_file.paragraphs\n",
    "        for i in all_para:\n",
    "            \n",
    "            # Email text finding\n",
    "            result1 = re.findall(email_pattern,i.text)\n",
    "            if result1 != \"\":\n",
    "                email.extend(result1)\n",
    "                \n",
    "            # Github link text finding\n",
    "            result2 = re.findall(github_pattern,i.text)\n",
    "            if result2 != \"\":\n",
    "                github.extend(result2)\n",
    "                            \n",
    "            # Linkedin Link text finding\n",
    "            result3 = re.findall(linkedin_pattern,i.text)\n",
    "            if result3 != \"\":\n",
    "                linked.extend(result3)\n",
    "            \n",
    "                \n",
    "    ''' PDF file logic starts from here'''\n",
    "    if file.endswith('.pdf'):\n",
    "        file_name.append(file)\n",
    "        pdf_reader = PyPDF2.PdfFileReader(file)\n",
    "        pdf_pages = pdf_reader.numPages\n",
    "        for i in range(pdf_pages):\n",
    "            pdf_text = pdf_reader.getPage(i).extractText()\n",
    "            \n",
    "            # Email text finding\n",
    "            result4 = re.findall(email_pattern,pdf_text)\n",
    "            if result4 != \"\":\n",
    "                email.extend(result4)\n",
    "                \n",
    "            # Github link text finding\n",
    "            result5 = re.findall(github_pattern,pdf_text)\n",
    "            if result5 != \"\":\n",
    "                github.extend(result5)\n",
    "                \n",
    "            # Linkedin Link text finding\n",
    "            result6 = re.findall(linkedin_pattern,pdf_text)\n",
    "            if result6 != \"\":\n",
    "                linked.extend(result6)\n",
    "                \n",
    "            \n",
    "    return email,github,linked"
   ]
  },
  {
   "cell_type": "code",
   "execution_count": 4,
   "id": "49211aa5",
   "metadata": {},
   "outputs": [],
   "source": [
    "file1 = r\"C:\\Users\\ADMIN\\Desktop\\Ineuron.Ai\\Pandas\\Resume_Task\\same-resume-year-wise-master\\3+ (2).docx\""
   ]
  },
  {
   "cell_type": "code",
   "execution_count": 9,
   "id": "47f8f6d8",
   "metadata": {},
   "outputs": [],
   "source": [
    "file2 = r\"C:\\Users\\ADMIN\\Desktop\\Ineuron.Ai\\Pandas\\Resume_Task\\same-resume-year-wise-master\\3+.docx\""
   ]
  },
  {
   "cell_type": "code",
   "execution_count": 15,
   "id": "2d34aea9",
   "metadata": {},
   "outputs": [],
   "source": [
    "file3 = r\"C:\\Users\\ADMIN\\Desktop\\Ineuron.Ai\\Pandas\\Resume_Task\\same-resume-year-wise-master\\3+.pdf\""
   ]
  },
  {
   "cell_type": "code",
   "execution_count": 21,
   "id": "1d27686c",
   "metadata": {},
   "outputs": [],
   "source": [
    "file4 = r\"C:\\Users\\ADMIN\\Desktop\\Ineuron.Ai\\Pandas\\Resume_Task\\same-resume-year-wise-master\\4+.docx\""
   ]
  },
  {
   "cell_type": "code",
   "execution_count": 27,
   "id": "8c9ee1e9",
   "metadata": {},
   "outputs": [],
   "source": [
    "file5 = r\"C:\\Users\\ADMIN\\Desktop\\Ineuron.Ai\\Pandas\\Resume_Task\\same-resume-year-wise-master\\5.pdf\""
   ]
  },
  {
   "cell_type": "code",
   "execution_count": 33,
   "id": "abe8c6b8",
   "metadata": {},
   "outputs": [],
   "source": [
    "file6 = r\"C:\\Users\\ADMIN\\Desktop\\Ineuron.Ai\\Pandas\\Resume_Task\\same-resume-year-wise-master\\5+ .pdf\""
   ]
  },
  {
   "cell_type": "code",
   "execution_count": 39,
   "id": "65517f76",
   "metadata": {},
   "outputs": [],
   "source": [
    "file7 = r\"C:\\Users\\ADMIN\\Desktop\\Ineuron.Ai\\Pandas\\Resume_Task\\same-resume-year-wise-master\\5+.pdf\""
   ]
  },
  {
   "cell_type": "code",
   "execution_count": 45,
   "id": "95271208",
   "metadata": {},
   "outputs": [],
   "source": [
    "file8 = r\"C:\\Users\\ADMIN\\Desktop\\Ineuron.Ai\\Pandas\\Resume_Task\\same-resume-year-wise-master\\6+.pdf\""
   ]
  },
  {
   "cell_type": "code",
   "execution_count": 51,
   "id": "028964b6",
   "metadata": {},
   "outputs": [],
   "source": [
    "file9 = r\"C:\\Users\\ADMIN\\Desktop\\Ineuron.Ai\\Pandas\\Resume_Task\\same-resume-year-wise-master\\7+.pdf\""
   ]
  },
  {
   "cell_type": "code",
   "execution_count": 57,
   "id": "92a353c8",
   "metadata": {},
   "outputs": [],
   "source": [
    "file10 = r\"C:\\Users\\ADMIN\\Desktop\\Ineuron.Ai\\Pandas\\Resume_Task\\same-resume-year-wise-master\\8+.docx\""
   ]
  },
  {
   "cell_type": "code",
   "execution_count": 63,
   "id": "5208f404",
   "metadata": {},
   "outputs": [],
   "source": [
    "file11 = r\"C:\\Users\\ADMIN\\Desktop\\Ineuron.Ai\\Pandas\\Resume_Task\\same-resume-year-wise-master\\8+.pdf\""
   ]
  },
  {
   "cell_type": "code",
   "execution_count": 69,
   "id": "94959654",
   "metadata": {},
   "outputs": [],
   "source": [
    "file12 = r\"C:\\Users\\ADMIN\\Desktop\\Ineuron.Ai\\Pandas\\Resume_Task\\same-resume-year-wise-master\\12+ (2).docx\""
   ]
  },
  {
   "cell_type": "code",
   "execution_count": 75,
   "id": "889936f9",
   "metadata": {},
   "outputs": [],
   "source": [
    "file13 = r\"C:\\Users\\ADMIN\\Desktop\\Ineuron.Ai\\Pandas\\Resume_Task\\same-resume-year-wise-master\\12+ (2).docx\""
   ]
  },
  {
   "cell_type": "code",
   "execution_count": 81,
   "id": "2a7dd27e",
   "metadata": {},
   "outputs": [],
   "source": [
    "file14 = r\"C:\\Users\\ADMIN\\Desktop\\Ineuron.Ai\\Pandas\\Resume_Task\\same-resume-year-wise-master\\15+ (1).pdf\""
   ]
  },
  {
   "cell_type": "code",
   "execution_count": 87,
   "id": "fd390f19",
   "metadata": {},
   "outputs": [],
   "source": [
    "file15 = r\"C:\\Users\\ADMIN\\Desktop\\Ineuron.Ai\\Pandas\\Resume_Task\\same-resume-year-wise-master\\15+.pdf\""
   ]
  },
  {
   "cell_type": "code",
   "execution_count": 93,
   "id": "6d404641",
   "metadata": {},
   "outputs": [],
   "source": [
    "file16 = r\"C:\\Users\\ADMIN\\Desktop\\Ineuron.Ai\\Pandas\\Resume_Task\\same-resume-year-wise-master\\20.pdf\""
   ]
  },
  {
   "cell_type": "code",
   "execution_count": 99,
   "id": "912f8356",
   "metadata": {},
   "outputs": [],
   "source": [
    "file17 = r\"C:\\Users\\ADMIN\\Desktop\\Ineuron.Ai\\Pandas\\Resume_Task\\same-resume-year-wise-master\\freasher .pdf\""
   ]
  },
  {
   "cell_type": "code",
   "execution_count": 101,
   "id": "15b9e660",
   "metadata": {},
   "outputs": [],
   "source": [
    "obj = text_parsing(file17)"
   ]
  },
  {
   "cell_type": "code",
   "execution_count": 102,
   "id": "738edcca",
   "metadata": {},
   "outputs": [],
   "source": [
    "Email_id.append(obj[0])\n",
    "Github_link.append(obj[1])\n",
    "linkedin_link.append(obj[2])"
   ]
  },
  {
   "cell_type": "code",
   "execution_count": 103,
   "id": "c9e1be7c",
   "metadata": {},
   "outputs": [],
   "source": [
    "dic = {\n",
    "    \"File_Name\":file_name,\n",
    "    \"Email_id\":Email_id,\n",
    "    \"Github_Link\":Github_link,\n",
    "    \"Linkedin_link\":linkedin_link,\n",
    "}\n",
    "\n",
    "df = pd.DataFrame(dic)"
   ]
  },
  {
   "cell_type": "code",
   "execution_count": 104,
   "id": "196e218e",
   "metadata": {},
   "outputs": [
    {
     "data": {
      "text/html": [
       "<div>\n",
       "<style scoped>\n",
       "    .dataframe tbody tr th:only-of-type {\n",
       "        vertical-align: middle;\n",
       "    }\n",
       "\n",
       "    .dataframe tbody tr th {\n",
       "        vertical-align: top;\n",
       "    }\n",
       "\n",
       "    .dataframe thead th {\n",
       "        text-align: right;\n",
       "    }\n",
       "</style>\n",
       "<table border=\"1\" class=\"dataframe\">\n",
       "  <thead>\n",
       "    <tr style=\"text-align: right;\">\n",
       "      <th></th>\n",
       "      <th>File_Name</th>\n",
       "      <th>Email_id</th>\n",
       "      <th>Github_Link</th>\n",
       "      <th>Linkedin_link</th>\n",
       "    </tr>\n",
       "  </thead>\n",
       "  <tbody>\n",
       "    <tr>\n",
       "      <th>0</th>\n",
       "      <td>C:\\Users\\ADMIN\\Desktop\\Ineuron.Ai\\Pandas\\Resum...</td>\n",
       "      <td>[Abhishekchiru147@gmail.com]</td>\n",
       "      <td>[]</td>\n",
       "      <td>[]</td>\n",
       "    </tr>\n",
       "    <tr>\n",
       "      <th>1</th>\n",
       "      <td>C:\\Users\\ADMIN\\Desktop\\Ineuron.Ai\\Pandas\\Resum...</td>\n",
       "      <td>[]</td>\n",
       "      <td>[]</td>\n",
       "      <td>[]</td>\n",
       "    </tr>\n",
       "    <tr>\n",
       "      <th>2</th>\n",
       "      <td>C:\\Users\\ADMIN\\Desktop\\Ineuron.Ai\\Pandas\\Resum...</td>\n",
       "      <td>[]</td>\n",
       "      <td>[]</td>\n",
       "      <td>[]</td>\n",
       "    </tr>\n",
       "    <tr>\n",
       "      <th>3</th>\n",
       "      <td>C:\\Users\\ADMIN\\Desktop\\Ineuron.Ai\\Pandas\\Resum...</td>\n",
       "      <td>[]</td>\n",
       "      <td>[]</td>\n",
       "      <td>[]</td>\n",
       "    </tr>\n",
       "    <tr>\n",
       "      <th>4</th>\n",
       "      <td>C:\\Users\\ADMIN\\Desktop\\Ineuron.Ai\\Pandas\\Resum...</td>\n",
       "      <td>[]</td>\n",
       "      <td>[]</td>\n",
       "      <td>[]</td>\n",
       "    </tr>\n",
       "    <tr>\n",
       "      <th>5</th>\n",
       "      <td>C:\\Users\\ADMIN\\Desktop\\Ineuron.Ai\\Pandas\\Resum...</td>\n",
       "      <td>[]</td>\n",
       "      <td>[github.com/AbhijitManepatil]</td>\n",
       "      <td>[]</td>\n",
       "    </tr>\n",
       "    <tr>\n",
       "      <th>6</th>\n",
       "      <td>C:\\Users\\ADMIN\\Desktop\\Ineuron.Ai\\Pandas\\Resum...</td>\n",
       "      <td>[]</td>\n",
       "      <td>[]</td>\n",
       "      <td>[]</td>\n",
       "    </tr>\n",
       "    <tr>\n",
       "      <th>7</th>\n",
       "      <td>C:\\Users\\ADMIN\\Desktop\\Ineuron.Ai\\Pandas\\Resum...</td>\n",
       "      <td>[]</td>\n",
       "      <td>[]</td>\n",
       "      <td>[]</td>\n",
       "    </tr>\n",
       "    <tr>\n",
       "      <th>8</th>\n",
       "      <td>C:\\Users\\ADMIN\\Desktop\\Ineuron.Ai\\Pandas\\Resum...</td>\n",
       "      <td>[]</td>\n",
       "      <td>[]</td>\n",
       "      <td>[]</td>\n",
       "    </tr>\n",
       "    <tr>\n",
       "      <th>9</th>\n",
       "      <td>C:\\Users\\ADMIN\\Desktop\\Ineuron.Ai\\Pandas\\Resum...</td>\n",
       "      <td>[]</td>\n",
       "      <td>[]</td>\n",
       "      <td>[]</td>\n",
       "    </tr>\n",
       "    <tr>\n",
       "      <th>10</th>\n",
       "      <td>C:\\Users\\ADMIN\\Desktop\\Ineuron.Ai\\Pandas\\Resum...</td>\n",
       "      <td>[]</td>\n",
       "      <td>[]</td>\n",
       "      <td>[]</td>\n",
       "    </tr>\n",
       "    <tr>\n",
       "      <th>11</th>\n",
       "      <td>C:\\Users\\ADMIN\\Desktop\\Ineuron.Ai\\Pandas\\Resum...</td>\n",
       "      <td>[]</td>\n",
       "      <td>[]</td>\n",
       "      <td>[]</td>\n",
       "    </tr>\n",
       "    <tr>\n",
       "      <th>12</th>\n",
       "      <td>C:\\Users\\ADMIN\\Desktop\\Ineuron.Ai\\Pandas\\Resum...</td>\n",
       "      <td>[]</td>\n",
       "      <td>[]</td>\n",
       "      <td>[]</td>\n",
       "    </tr>\n",
       "    <tr>\n",
       "      <th>13</th>\n",
       "      <td>C:\\Users\\ADMIN\\Desktop\\Ineuron.Ai\\Pandas\\Resum...</td>\n",
       "      <td>[]</td>\n",
       "      <td>[]</td>\n",
       "      <td>[]</td>\n",
       "    </tr>\n",
       "    <tr>\n",
       "      <th>14</th>\n",
       "      <td>C:\\Users\\ADMIN\\Desktop\\Ineuron.Ai\\Pandas\\Resum...</td>\n",
       "      <td>[]</td>\n",
       "      <td>[]</td>\n",
       "      <td>[]</td>\n",
       "    </tr>\n",
       "    <tr>\n",
       "      <th>15</th>\n",
       "      <td>C:\\Users\\ADMIN\\Desktop\\Ineuron.Ai\\Pandas\\Resum...</td>\n",
       "      <td>[]</td>\n",
       "      <td>[]</td>\n",
       "      <td>[]</td>\n",
       "    </tr>\n",
       "    <tr>\n",
       "      <th>16</th>\n",
       "      <td>C:\\Users\\ADMIN\\Desktop\\Ineuron.Ai\\Pandas\\Resum...</td>\n",
       "      <td>[]</td>\n",
       "      <td>[]</td>\n",
       "      <td>[]</td>\n",
       "    </tr>\n",
       "  </tbody>\n",
       "</table>\n",
       "</div>"
      ],
      "text/plain": [
       "                                            File_Name  \\\n",
       "0   C:\\Users\\ADMIN\\Desktop\\Ineuron.Ai\\Pandas\\Resum...   \n",
       "1   C:\\Users\\ADMIN\\Desktop\\Ineuron.Ai\\Pandas\\Resum...   \n",
       "2   C:\\Users\\ADMIN\\Desktop\\Ineuron.Ai\\Pandas\\Resum...   \n",
       "3   C:\\Users\\ADMIN\\Desktop\\Ineuron.Ai\\Pandas\\Resum...   \n",
       "4   C:\\Users\\ADMIN\\Desktop\\Ineuron.Ai\\Pandas\\Resum...   \n",
       "5   C:\\Users\\ADMIN\\Desktop\\Ineuron.Ai\\Pandas\\Resum...   \n",
       "6   C:\\Users\\ADMIN\\Desktop\\Ineuron.Ai\\Pandas\\Resum...   \n",
       "7   C:\\Users\\ADMIN\\Desktop\\Ineuron.Ai\\Pandas\\Resum...   \n",
       "8   C:\\Users\\ADMIN\\Desktop\\Ineuron.Ai\\Pandas\\Resum...   \n",
       "9   C:\\Users\\ADMIN\\Desktop\\Ineuron.Ai\\Pandas\\Resum...   \n",
       "10  C:\\Users\\ADMIN\\Desktop\\Ineuron.Ai\\Pandas\\Resum...   \n",
       "11  C:\\Users\\ADMIN\\Desktop\\Ineuron.Ai\\Pandas\\Resum...   \n",
       "12  C:\\Users\\ADMIN\\Desktop\\Ineuron.Ai\\Pandas\\Resum...   \n",
       "13  C:\\Users\\ADMIN\\Desktop\\Ineuron.Ai\\Pandas\\Resum...   \n",
       "14  C:\\Users\\ADMIN\\Desktop\\Ineuron.Ai\\Pandas\\Resum...   \n",
       "15  C:\\Users\\ADMIN\\Desktop\\Ineuron.Ai\\Pandas\\Resum...   \n",
       "16  C:\\Users\\ADMIN\\Desktop\\Ineuron.Ai\\Pandas\\Resum...   \n",
       "\n",
       "                        Email_id                    Github_Link Linkedin_link  \n",
       "0   [Abhishekchiru147@gmail.com]                             []            []  \n",
       "1                             []                             []            []  \n",
       "2                             []                             []            []  \n",
       "3                             []                             []            []  \n",
       "4                             []                             []            []  \n",
       "5                             []  [github.com/AbhijitManepatil]            []  \n",
       "6                             []                             []            []  \n",
       "7                             []                             []            []  \n",
       "8                             []                             []            []  \n",
       "9                             []                             []            []  \n",
       "10                            []                             []            []  \n",
       "11                            []                             []            []  \n",
       "12                            []                             []            []  \n",
       "13                            []                             []            []  \n",
       "14                            []                             []            []  \n",
       "15                            []                             []            []  \n",
       "16                            []                             []            []  "
      ]
     },
     "execution_count": 104,
     "metadata": {},
     "output_type": "execute_result"
    }
   ],
   "source": [
    "df"
   ]
  }
 ],
 "metadata": {
  "kernelspec": {
   "display_name": "Python 3 (ipykernel)",
   "language": "python",
   "name": "python3"
  },
  "language_info": {
   "codemirror_mode": {
    "name": "ipython",
    "version": 3
   },
   "file_extension": ".py",
   "mimetype": "text/x-python",
   "name": "python",
   "nbconvert_exporter": "python",
   "pygments_lexer": "ipython3",
   "version": "3.9.12"
  }
 },
 "nbformat": 4,
 "nbformat_minor": 5
}
